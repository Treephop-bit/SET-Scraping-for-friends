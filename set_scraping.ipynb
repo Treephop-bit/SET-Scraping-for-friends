{
 "cells": [
  {
   "cell_type": "code",
   "execution_count": 1,
   "metadata": {},
   "outputs": [],
   "source": [
    "from selenium import webdriver\n",
    "from selenium.webdriver.chrome.service import Service\n",
    "from selenium.webdriver.common.by import By\n",
    "from selenium.webdriver.support.ui import WebDriverWait, Select\n",
    "from selenium.webdriver.support import expected_conditions as EC\n",
    "from selenium.webdriver.common.keys import Keys\n",
    "import pandas as pd\n",
    "import numpy as np\n",
    "import time"
   ]
  },
  {
   "cell_type": "code",
   "execution_count": null,
   "metadata": {},
   "outputs": [],
   "source": [
    "path = r'C:\\Users\\ken25\\OneDrive\\Desktop\\01_Python\\Set-Scraping-for-friends\\chromedriver.exe' # เปลี่ยน path ให้เป็นของเครื่องตัวเอง\n",
    "service = Service(path)\n",
    "\n",
    "driver = webdriver.Chrome(service=service)"
   ]
  },
  {
   "cell_type": "code",
   "execution_count": null,
   "metadata": {},
   "outputs": [
    {
     "data": {
      "text/plain": [
       "['APP',\n",
       " 'BBIK',\n",
       " 'BE8',\n",
       " 'BVG',\n",
       " 'COMAN',\n",
       " 'I2',\n",
       " 'IIG',\n",
       " 'IRCP',\n",
       " 'ITNS',\n",
       " 'NAT',\n",
       " 'NETBAY',\n",
       " 'PLANET',\n",
       " 'PROEN',\n",
       " 'READY',\n",
       " 'SECURE',\n",
       " 'SICT',\n",
       " 'SIMAT',\n",
       " 'SPVI',\n",
       " 'SRS',\n",
       " 'TBN',\n",
       " 'TERA',\n",
       " 'TPS',\n",
       " 'VCOM']"
      ]
     },
     "execution_count": 3,
     "metadata": {},
     "output_type": "execute_result"
    }
   ],
   "source": [
    "df = pd.read_excel('mai_tech.xlsx',index_col=1)  # <- เปลี่ยนชื่อไฟล์ตรงนี้\n",
    "stocks = df.index.to_list()\n",
    "stocks"
   ]
  },
  {
   "cell_type": "code",
   "execution_count": null,
   "metadata": {},
   "outputs": [
    {
     "name": "stderr",
     "output_type": "stream",
     "text": [
      "C:\\Users\\ken25\\AppData\\Local\\Temp\\ipykernel_29360\\486533581.py:32: FutureWarning: Passing literal html to 'read_html' is deprecated and will be removed in a future version. To read from a literal string, wrap it in a 'StringIO' object.\n",
      "  data_df = pd.read_html(data)[1]\n"
     ]
    },
    {
     "ename": "KeyboardInterrupt",
     "evalue": "",
     "output_type": "error",
     "traceback": [
      "\u001b[1;31m---------------------------------------------------------------------------\u001b[0m",
      "\u001b[1;31mKeyboardInterrupt\u001b[0m                         Traceback (most recent call last)",
      "Cell \u001b[1;32mIn[4], line 12\u001b[0m\n\u001b[0;32m     10\u001b[0m url \u001b[38;5;241m=\u001b[39m base_url\u001b[38;5;241m.\u001b[39mformat(stock)\n\u001b[0;32m     11\u001b[0m driver\u001b[38;5;241m.\u001b[39mget(url)\n\u001b[1;32m---> 12\u001b[0m \u001b[43mtime\u001b[49m\u001b[38;5;241;43m.\u001b[39;49m\u001b[43msleep\u001b[49m\u001b[43m(\u001b[49m\u001b[38;5;241;43m15\u001b[39;49m\u001b[43m)\u001b[49m\n\u001b[0;32m     13\u001b[0m driver\u001b[38;5;241m.\u001b[39mexecute_script(\u001b[38;5;124m\"\u001b[39m\u001b[38;5;124mwindow.scrollBy(0, 1400)\u001b[39m\u001b[38;5;124m\"\u001b[39m)\n\u001b[0;32m     15\u001b[0m time\u001b[38;5;241m.\u001b[39msleep(\u001b[38;5;241m7\u001b[39m)\n",
      "\u001b[1;31mKeyboardInterrupt\u001b[0m: "
     ]
    }
   ],
   "source": [
    "base_url = 'https://www.settrade.com/th/equities/quote/{}/historical-trading'\n",
    "\n",
    "# Initialize an empty dictionary to store the dataframes\n",
    "\n",
    "all_data =[]\n",
    "\n",
    "# Loop through each stock symbol\n",
    "for stock in stocks:\n",
    "    # Construct the URL\n",
    "    url = base_url.format(stock)\n",
    "    driver.get(url)\n",
    "    time.sleep(15)\n",
    "    driver.execute_script(\"window.scrollBy(0, 1400)\")\n",
    "\n",
    "    time.sleep(7)\n",
    "    elements = WebDriverWait(driver, 10).until(EC.presence_of_all_elements_located((By.CLASS_NAME, \"multiselect__tags\")))\n",
    "    time.sleep(7)\n",
    "    elements[1].click()\n",
    "\n",
    "    \n",
    "    elements = WebDriverWait(driver, 10).until(EC.presence_of_all_elements_located((By.CLASS_NAME, \"multiselect__element\")))\n",
    "    time.sleep(10)\n",
    "    elements[-1].click()\n",
    "\n",
    "    time.sleep(7)\n",
    "    \n",
    "    \n",
    "    # Get page source\n",
    "    data = driver.page_source\n",
    "    \n",
    "    # Parse HTML table into DataFrame\n",
    "    data_df = pd.read_html(data)[1]\n",
    "    \n",
    "    # Clean column names\n",
    "    clean_column = []\n",
    "    for c in data_df.columns:\n",
    "        clean_column.append(c.replace('  (Click to sort Ascending)', ''))\n",
    "    data_df.columns = clean_column\n",
    "    \n",
    "    # Set index to 'วันที่'\n",
    "    data_df = data_df.set_index('วันที่')\n",
    "    \n",
    "    # Filter rows and columns \n",
    "    dates = ['31 ต.ค. 2567'] #        <----       <----      <---            *******************************************เปลี่ยนวันที่ตรงนี้**********************************************************\n",
    "    data_df = data_df.loc[data_df.index.intersection(dates), ['ราคาปิด']]\n",
    "    #data_df = data_df.loc[dates, ['ราคาปิด']]\n",
    "    \n",
    "    # Transpose DataFrame and replace the first column name with the stock symbol\n",
    "    data_df = data_df.transpose()\n",
    "    data_df.index = [stock]\n",
    "    \n",
    "\n",
    "    \n",
    "    all_data.append(data_df)\n",
    "\n",
    "# Close the driver\n",
    "driver.quit()\n",
    "\n",
    "# Concatenate all DataFrames\n",
    "combined_data = pd.concat(all_data)\n",
    "\n",
    "# Write the combined DataFrame to a single sheet in an Excel file\n",
    "combined_data.to_excel('stock_data_mai_tech-09.xlsx', sheet_name='All Stocks')\n",
    "\n",
    "print(\"Data has been written\")\n"
   ]
  }
 ],
 "metadata": {
  "kernelspec": {
   "display_name": "Python 3",
   "language": "python",
   "name": "python3"
  },
  "language_info": {
   "codemirror_mode": {
    "name": "ipython",
    "version": 3
   },
   "file_extension": ".py",
   "mimetype": "text/x-python",
   "name": "python",
   "nbconvert_exporter": "python",
   "pygments_lexer": "ipython3",
   "version": "3.12.3"
  }
 },
 "nbformat": 4,
 "nbformat_minor": 2
}
